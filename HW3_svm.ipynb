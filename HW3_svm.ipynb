{
 "cells": [
  {
   "cell_type": "code",
   "execution_count": 1,
   "metadata": {
    "collapsed": true
   },
   "outputs": [],
   "source": [
    "import numpy as np\n",
    "from lib.read_file import C_read, M_read\n",
    "from sklearn.svm import SVC\n",
    "from sklearn.model_selection import cross_val_score, KFold, LeaveOneOut\n",
    "from sklearn.discriminant_analysis import LinearDiscriminantAnalysis as LDA\n",
    "from sklearn.preprocessing import normalize\n",
    "from sklearn.model_selection import GridSearchCV\n",
    "from sklearn.model_selection import StratifiedShuffleSplit\n",
    "import lib.preprocess as pp\n",
    "import matplotlib.pyplot as plt\n",
    "import time"
   ]
  },
  {
   "cell_type": "code",
   "execution_count": 2,
   "metadata": {
    "collapsed": true
   },
   "outputs": [],
   "source": [
    "import findspark\n",
    "findspark.init()\n",
    "from pyspark import SparkContext\n",
    "sc = SparkContext(master=\"local[4]\")"
   ]
  },
  {
   "cell_type": "code",
   "execution_count": null,
   "metadata": {},
   "outputs": [],
   "source": [
    "C = C_read('covtype.data')\n",
    "M = M_read('MNIST_train.csv')"
   ]
  },
  {
   "cell_type": "code",
   "execution_count": null,
   "metadata": {},
   "outputs": [],
   "source": [
    "#preprocess\n",
    "MX = M[:, :-1]\n",
    "My = M[:, -1]\n",
    "CX = C[:, :-1]\n",
    "Cy = C[:, -1]\n",
    "MX = normalize(MX, norm='l2', axis=0)\n",
    "CX = normalize(CX, norm='l2', axis=0)\n",
    "lda_M = LDA()\n",
    "lda_C = LDA()\n",
    "\n",
    "CX = lda_C.fit_transform(CX, Cy)\n",
    "MX = lda_M.fit_transform(MX, My)\n",
    "\n",
    "M = np.concatenate((MX, My.reshape((len(My), 1))), axis=1)\n",
    "C = np.concatenate((CX, Cy.reshape((len(Cy), 1))), axis=1)\n",
    "\n",
    "M_train, M_test = pp.TTsplit(M)\n",
    "C_train, C_test = pp.TTsplit(C)"
   ]
  },
  {
   "cell_type": "code",
   "execution_count": 18,
   "metadata": {
    "collapsed": true
   },
   "outputs": [],
   "source": [
    "def fit_score(clf, data, train, test):\n",
    "    clf.fit(data[train, :-1], data[train, -1])\n",
    "    return (sum(clf.predict(data[test, :-1]) == data[test, -1])*1.0/len(test))"
   ]
  },
  {
   "cell_type": "code",
   "execution_count": 5,
   "metadata": {
    "collapsed": true
   },
   "outputs": [],
   "source": [
    "def svm_fold(train_set, kernelName, nFold=2, C=1.0, gamma = 'auto', class_weight=None, all_result=False):\n",
    "    start_time = time.time()\n",
    "    clf = SVC(kernel=kernelName, C=C, gamma = gamma, class_weight = class_weight)\n",
    "    kf = KFold(n_splits=nFold, shuffle=True)\n",
    "    #score = sc.parallelize(kf.split(train_set)).map(lambda x: (clf, train_set, x[0], x[1])).collect()\n",
    "    score = []\n",
    "    for train, test in kf.split(train_set):\n",
    "        clf.fit(train_set[train, :-1], train_set[train, -1])\n",
    "        score.append(sum(clf.predict(train_set[test, :-1]) == train_set[test, -1])*1.0/len(test))\n",
    "    print \"kernel type = %s, score = %f\" %(kernelName, np.mean(score))\n",
    "    print \"used time:\", (time.time() - start_time), 'seconds'\n",
    "    if all_result: return score\n",
    "    else: return np.mean(score)"
   ]
  },
  {
   "cell_type": "code",
   "execution_count": 7,
   "metadata": {
    "collapsed": true
   },
   "outputs": [],
   "source": [
    "M_train_sub = pp.getSubset(M_train, 50) #50, 75, 100\n",
    "C_train_sub = pp.getSubset(C_train, 50) #50, 75, 100"
   ]
  },
  {
   "cell_type": "code",
   "execution_count": 8,
   "metadata": {},
   "outputs": [
    {
     "name": "stdout",
     "output_type": "stream",
     "text": [
      "kernel type = linear, score = 0.896444\n",
      "used time: 1.68860077858 seconds\n",
      "kernel type = linear, score = 0.896762\n",
      "used time: 6.43248605728 seconds\n",
      "kernel type = poly, score = 0.905079\n",
      "used time: 1.6527121067 seconds\n",
      "kernel type = poly, score = 0.911619\n",
      "used time: 5.82753515244 seconds\n",
      "kernel type = rbf, score = 0.915429\n",
      "used time: 2.56353712082 seconds\n",
      "kernel type = rbf, score = 0.919175\n",
      "used time: 8.88465285301 seconds\n",
      "kernel type = sigmoid, score = 0.671810\n",
      "used time: 3.16644883156 seconds\n",
      "kernel type = sigmoid, score = 0.657905\n",
      "used time: 9.39706587791 seconds\n"
     ]
    },
    {
     "data": {
      "text/plain": [
       "0.65790476190476188"
      ]
     },
     "execution_count": 8,
     "metadata": {},
     "output_type": "execute_result"
    }
   ],
   "source": [
    "svm_fold(M_train_sub, kernelName = 'linear', nFold=2)\n",
    "svm_fold(M_train_sub, kernelName = 'linear', nFold=5)\n",
    "svm_fold(M_train_sub, kernelName = 'poly', nFold=2)\n",
    "svm_fold(M_train_sub, kernelName = 'poly', nFold=5)\n",
    "svm_fold(M_train_sub, kernelName = 'rbf', nFold=2)\n",
    "svm_fold(M_train_sub, kernelName = 'rbf', nFold=5)\n",
    "svm_fold(M_train_sub, kernelName = 'sigmoid', nFold=2)\n",
    "svm_fold(M_train_sub, kernelName = 'sigmoid', nFold=5)"
   ]
  },
  {
   "cell_type": "code",
   "execution_count": 86,
   "metadata": {},
   "outputs": [
    {
     "name": "stdout",
     "output_type": "stream",
     "text": [
      "kernel type = linear, score = 0.719239\n",
      "used time: 701.754698992 seconds\n",
      "kernel type = linear, score = 0.719294\n",
      "used time: 3742.7948792 seconds\n",
      "kernel type = poly, score = 0.712533\n",
      "used time: 1261.02185798 seconds\n",
      "kernel type = poly, score = 0.712758\n",
      "used time: 9565.30119777 seconds\n",
      "kernel type = rbf, score = 0.737409\n",
      "used time: 872.465178013 seconds\n",
      "kernel type = rbf, score = 0.739805\n",
      "used time: 4451.11680722 seconds\n",
      "kernel type = sigmoid, score = 0.579579\n",
      "used time: 1179.86001921 seconds\n",
      "kernel type = sigmoid, score = 0.589717\n",
      "used time: 6767.25737405 seconds\n"
     ]
    }
   ],
   "source": [
    "svm_fold(C_train_sub, kernelName = 'linear', nFold=2)\n",
    "svm_fold(C_train_sub, kernelName = 'linear', nFold=5)\n",
    "svm_fold(C_train_sub, kernelName = 'poly', nFold=2)\n",
    "svm_fold(C_train_sub, kernelName = 'poly', nFold=5)\n",
    "svm_fold(C_train_sub, kernelName = 'rbf', nFold=2)\n",
    "svm_fold(C_train_sub, kernelName = 'rbf', nFold=5)\n",
    "svm_fold(C_train_sub, kernelName = 'sigmoid', nFold=2)\n",
    "svm_fold(C_train_sub, kernelName = 'sigmoid', nFold=5)"
   ]
  },
  {
   "cell_type": "code",
   "execution_count": 5,
   "metadata": {
    "collapsed": true
   },
   "outputs": [],
   "source": [
    "M_train_sub = pp.getSubset(M_train, 75) #50, 75, 100\n",
    "C_train_sub = pp.getSubset(C_train, 75) #50, 75, 100"
   ]
  },
  {
   "cell_type": "code",
   "execution_count": 6,
   "metadata": {},
   "outputs": [
    {
     "name": "stdout",
     "output_type": "stream",
     "text": [
      "kernel type = linear, score = 0.898370\n",
      "used time: 3.26535201073 seconds\n",
      "kernel type = linear, score = 0.899005\n",
      "used time: 12.4046220779 seconds\n",
      "kernel type = poly, score = 0.909841\n",
      "used time: 3.39332699776 seconds\n",
      "kernel type = poly, score = 0.913693\n",
      "used time: 11.3609249592 seconds\n",
      "kernel type = rbf, score = 0.920042\n",
      "used time: 5.42599105835 seconds\n",
      "kernel type = rbf, score = 0.922370\n",
      "used time: 16.975577116 seconds\n",
      "kernel type = sigmoid, score = 0.655111\n",
      "used time: 7.14006400108 seconds\n",
      "kernel type = sigmoid, score = 0.637206\n",
      "used time: 22.1132938862 seconds\n"
     ]
    }
   ],
   "source": [
    "svm_fold(M_train_sub, kernelName = 'linear', nFold=2)\n",
    "svm_fold(M_train_sub, kernelName = 'linear', nFold=5)\n",
    "svm_fold(M_train_sub, kernelName = 'poly', nFold=2)\n",
    "svm_fold(M_train_sub, kernelName = 'poly', nFold=5)\n",
    "svm_fold(M_train_sub, kernelName = 'rbf', nFold=2)\n",
    "svm_fold(M_train_sub, kernelName = 'rbf', nFold=5)\n",
    "svm_fold(M_train_sub, kernelName = 'sigmoid', nFold=2)\n",
    "svm_fold(M_train_sub, kernelName = 'sigmoid', nFold=5)"
   ]
  },
  {
   "cell_type": "code",
   "execution_count": 60,
   "metadata": {},
   "outputs": [
    {
     "name": "stdout",
     "output_type": "stream",
     "text": [
      "kernel type = linear, score = 0.899640\n",
      "CPU times: user 14.1 s, sys: 67.4 ms, total: 14.2 s\n",
      "Wall time: 14.3 s\n"
     ]
    }
   ],
   "source": [
    "svm_fold(C_train_sub, kernelName = 'linear', nFold=2)\n",
    "svm_fold(C_train_sub, kernelName = 'linear', nFold=5)\n",
    "svm_fold(C_train_sub, kernelName = 'poly', nFold=2)\n",
    "svm_fold(C_train_sub, kernelName = 'poly', nFold=5)\n",
    "svm_fold(C_train_sub, kernelName = 'rbf', nFold=2)\n",
    "svm_fold(C_train_sub, kernelName = 'rbf', nFold=5)\n",
    "svm_fold(C_train_sub, kernelName = 'sigmoid', nFold=2)\n",
    "svm_fold(C_train_sub, kernelName = 'sigmoid', nFold=5)"
   ]
  },
  {
   "cell_type": "code",
   "execution_count": 18,
   "metadata": {
    "collapsed": true
   },
   "outputs": [],
   "source": [
    "M_train_sub = pp.getSubset(M_train, 100) #50, 75, 100\n",
    "C_train_sub = pp.getSubset(C_train, 100) #50, 75, 100"
   ]
  },
  {
   "cell_type": "code",
   "execution_count": 12,
   "metadata": {},
   "outputs": [
    {
     "name": "stdout",
     "output_type": "stream",
     "text": [
      "kernel type = linear, score = 0.897778\n",
      "used time: 6.02907919884 seconds\n",
      "kernel type = linear, score = 0.898762\n",
      "used time: 21.0485219955 seconds\n",
      "kernel type = poly, score = 0.913429\n",
      "used time: 5.08974599838 seconds\n",
      "kernel type = poly, score = 0.915810\n",
      "used time: 18.0702478886 seconds\n",
      "kernel type = rbf, score = 0.920794\n",
      "used time: 7.94448208809 seconds\n",
      "kernel type = rbf, score = 0.923079\n",
      "used time: 25.3648750782 seconds\n",
      "kernel type = sigmoid, score = 0.638349\n",
      "used time: 11.3708970547 seconds\n",
      "kernel type = sigmoid, score = 0.631714\n",
      "used time: 34.327903986 seconds\n"
     ]
    }
   ],
   "source": [
    "svm_fold(M_train_sub, kernelName = 'linear', nFold=2)\n",
    "svm_fold(M_train_sub, kernelName = 'linear', nFold=5)\n",
    "svm_fold(M_train_sub, kernelName = 'poly', nFold=2)\n",
    "svm_fold(M_train_sub, kernelName = 'poly', nFold=5)\n",
    "svm_fold(M_train_sub, kernelName = 'rbf', nFold=2)\n",
    "svm_fold(M_train_sub, kernelName = 'rbf', nFold=5)\n",
    "svm_fold(M_train_sub, kernelName = 'sigmoid', nFold=2)\n",
    "svm_fold(M_train_sub, kernelName = 'sigmoid', nFold=5)"
   ]
  },
  {
   "cell_type": "code",
   "execution_count": 19,
   "metadata": {},
   "outputs": [
    {
     "name": "stdout",
     "output_type": "stream",
     "text": [
      "kernel type = linear, score = 0.718897\n",
      "used time: 3268.37423706 seconds\n",
      "kernel type = poly, score = 0.714039\n",
      "used time: 8295.85963893 seconds\n",
      "kernel type = rbf, score = 0.742273\n",
      "used time: 3882.42275 seconds\n",
      "kernel type = sigmoid, score = 0.577748\n",
      "used time: 6094.206388 seconds\n"
     ]
    },
    {
     "data": {
      "text/plain": [
       "0.57774825961954301"
      ]
     },
     "execution_count": 19,
     "metadata": {},
     "output_type": "execute_result"
    }
   ],
   "source": [
    "svm_fold(C_train_sub, kernelName = 'linear', nFold=2)\n",
    "#svm_fold(C_train_sub, kernelName = 'linear', nFold=5)\n",
    "svm_fold(C_train_sub, kernelName = 'poly', nFold=2)\n",
    "#svm_fold(C_train_sub, kernelName = 'poly', nFold=5)\n",
    "svm_fold(C_train_sub, kernelName = 'rbf', nFold=2)\n",
    "#svm_fold(C_train_sub, kernelName = 'rbf', nFold=5)\n",
    "svm_fold(C_train_sub, kernelName = 'sigmoid', nFold=2)\n",
    "#svm_fold(C_train_sub, kernelName = 'sigmoid', nFold=5)"
   ]
  },
  {
   "cell_type": "code",
   "execution_count": 20,
   "metadata": {},
   "outputs": [
    {
     "data": {
      "text/plain": [
       "(435759, 7)"
      ]
     },
     "execution_count": 20,
     "metadata": {},
     "output_type": "execute_result"
    }
   ],
   "source": [
    "C_train_sub.shape"
   ]
  },
  {
   "cell_type": "code",
   "execution_count": 16,
   "metadata": {},
   "outputs": [
    {
     "name": "stdout",
     "output_type": "stream",
     "text": [
      "CPU times: user 139 ms, sys: 82.9 ms, total: 222 ms\n",
      "Wall time: 31min 7s\n"
     ]
    }
   ],
   "source": [
    "%%time\n",
    "array = np.arange(1, 2000, 7.5)\n",
    "score = sc.parallelize(array)\\\n",
    ".map(lambda x: svm_fold(C_train_sub[:10000], kernelName = 'rbf', nFold=2, C=x))\n",
    "score = score.collect()"
   ]
  },
  {
   "cell_type": "code",
   "execution_count": 17,
   "metadata": {},
   "outputs": [
    {
     "data": {
      "image/png": "[encoded data removed]",
      "text/plain": [
       "<matplotlib.figure.Figure at 0x10f181050>"
      ]
     },
     "metadata": {},
     "output_type": "display_data"
    }
   ],
   "source": [
    "plt.figure()\n",
    "plt.title(\"C vs accuracy for covertype\")\n",
    "plt.xlabel(\"C\")\n",
    "plt.ylabel(\"Accuracy\")\n",
    "plt.plot(array, score)\n",
    "plt.show()"
   ]
  },
  {
   "cell_type": "code",
   "execution_count": 49,
   "metadata": {
    "collapsed": true
   },
   "outputs": [],
   "source": [
    "%%time\n",
    "array = np.arange(0.1, 5, 0.1)\n",
    "score = sc.parallelize(array)\\\n",
    ".map(lambda x: svm_fold(M_train_sub, kernelName = 'rbf', nFold=5, C=x))\n",
    "score = score.collect()"
   ]
  },
  {
   "cell_type": "code",
   "execution_count": 50,
   "metadata": {},
   "outputs": [
    {
     "data": {
      "image/png": "[encoded data removed]",
      "text/plain": [
       "<matplotlib.figure.Figure at 0x1118d53d0>"
      ]
     },
     "metadata": {},
     "output_type": "display_data"
    }
   ],
   "source": [
    "plt.figure()\n",
    "plt.title(\"C vs accuracy for MNIST\")\n",
    "plt.xlabel(\"C\")\n",
    "plt.ylabel(\"Accuracy\")\n",
    "plt.plot(array, score)\n",
    "plt.show()"
   ]
  },
  {
   "cell_type": "code",
   "execution_count": null,
   "metadata": {
    "collapsed": true
   },
   "outputs": [],
   "source": [
    "%%time\n",
    "# grid search\n",
    "C_range = np.logspace(-2, 10, 13)\n",
    "gamma_range = np.logspace(-9, 3, 13)\n",
    "param_grid = dict(gamma=gamma_range, C=C_range)\n",
    "cv = StratifiedShuffleSplit(n_splits=5, test_size=0.2, random_state=42)\n",
    "grid = GridSearchCV(SVC(kernel='rbf'), param_grid=param_grid, cv=cv)\n",
    "grid.fit(M_train_sub[:, :-1], M_train_sub[:, -1])\n",
    "\n",
    "print(\"The best parameters are %s with a score of %0.2f\"\n",
    "      % (grid.best_params_, grid.best_score_))"
   ]
  },
  {
   "cell_type": "code",
   "execution_count": 8,
   "metadata": {},
   "outputs": [
    {
     "name": "stdout",
     "output_type": "stream",
     "text": [
      "CPU times: user 12.8 ms, sys: 8.67 ms, total: 21.5 ms\n",
      "Wall time: 543 ms\n"
     ]
    }
   ],
   "source": [
    "%%time\n",
    "C_range = np.logspace(-1, 1, 13)\n",
    "gamma_range = np.logspace(-2, 0, 13)\n",
    "score = sc.parallelize(C_range)\\\n",
    ".map(lambda x: (x, gamma_range))\\\n",
    ".flatMapValues(lambda x: x)\\\n",
    ".map(lambda x: (x, svm_fold(M_train_sub[:len(M_train_sub/2)], kernelName = 'rbf', nFold=2, C=x[0], gamma=x[1]))).cache()"
   ]
  },
  {
   "cell_type": "code",
   "execution_count": 9,
   "metadata": {},
   "outputs": [
    {
     "name": "stdout",
     "output_type": "stream",
     "text": [
      "CPU times: user 40.4 ms, sys: 15.4 ms, total: 55.8 ms\n",
      "Wall time: 5min 49s\n"
     ]
    }
   ],
   "source": [
    "%%time\n",
    "acc_pair = score.collect()\n",
    "#print acc_pair\n",
    "acc_pair_square = []\n",
    "count = 0\n",
    "for i in range(13):\n",
    "    temp = []\n",
    "    for j in range(13):\n",
    "        temp.append(acc_pair[count][1]) #row: C, col: gamma\n",
    "        count += 1\n",
    "    acc_pair_square.append(temp)\n",
    "\n",
    "acc_pair_square = np.array(acc_pair_square)\n",
    "#print acc_pair_square\n",
    "#print acc_pair_np.reshape(()\n",
    "#score = sc.parallelize(acc_pair)\n",
    "#rs = score.reduce(lambda x, y: x if x[1] >= y[1] else y)\n",
    "#print rs"
   ]
  },
  {
   "cell_type": "code",
   "execution_count": 10,
   "metadata": {},
   "outputs": [
    {
     "data": {
      "image/png": "[encoded data removed]",
      "text/plain": [
       "<matplotlib.figure.Figure at 0x1100fbb90>"
      ]
     },
     "metadata": {},
     "output_type": "display_data"
    }
   ],
   "source": [
    "plt.figure(figsize=(8, 6))\n",
    "#plt.subplots_adjust(left=.2, right=0.95, bottom=0.15, top=0.95)\n",
    "plt.imshow(acc_pair_square, interpolation='nearest', cmap=plt.cm.hot,\n",
    "           )\n",
    "plt.xlabel('gamma')\n",
    "plt.ylabel('C')\n",
    "plt.colorbar()\n",
    "plt.xticks(np.arange(len(gamma_range)), gamma_range, rotation=45)\n",
    "plt.yticks(np.arange(len(C_range)), C_range)\n",
    "plt.title('Validation accuracy for MNIST')\n",
    "plt.show()"
   ]
  },
  {
   "cell_type": "code",
   "execution_count": 11,
   "metadata": {
    "collapsed": true
   },
   "outputs": [],
   "source": [
    "np.save('acc_pair_M_small', acc_pair)"
   ]
  },
  {
   "cell_type": "code",
   "execution_count": 13,
   "metadata": {},
   "outputs": [
    {
     "name": "stdout",
     "output_type": "stream",
     "text": [
      "CPU times: user 43.5 ms, sys: 80.5 ms, total: 124 ms\n",
      "Wall time: 271 ms\n"
     ]
    }
   ],
   "source": [
    "%%time\n",
    "C_range = np.logspace(-1, 11, 13)\n",
    "gamma_range = np.logspace(-9, 3, 13)\n",
    "score = sc.parallelize(C_range)\\\n",
    ".map(lambda x: (x, gamma_range))\\\n",
    ".flatMapValues(lambda x: x)\\\n",
    ".map(lambda x: (x, svm_fold(C_train[:1000], kernelName = 'rbf', nFold=2, C=x[0], gamma=x[1]))).cache()"
   ]
  },
  {
   "cell_type": "code",
   "execution_count": 14,
   "metadata": {},
   "outputs": [
    {
     "name": "stdout",
     "output_type": "stream",
     "text": [
      "CPU times: user 148 ms, sys: 60.5 ms, total: 209 ms\n",
      "Wall time: 35min 29s\n"
     ]
    }
   ],
   "source": [
    "%%time\n",
    "acc_pair = score.collect()\n",
    "#print acc_pair\n",
    "acc_pair_square = []\n",
    "count = 0\n",
    "for i in range(13):\n",
    "    temp = []\n",
    "    for j in range(13):\n",
    "        temp.append(acc_pair[count][1]) #row: C, col: gamma\n",
    "        count += 1\n",
    "    acc_pair_square.append(temp)\n",
    "\n",
    "acc_pair_square = np.array(acc_pair_square)\n",
    "#print acc_pair_square\n",
    "\n",
    "#score = sc.parallelize(acc_pair)\n",
    "#rs = score.reduce(lambda x, y: x if x[1] >= y[1] else y)\n",
    "#print rs"
   ]
  },
  {
   "cell_type": "code",
   "execution_count": 15,
   "metadata": {},
   "outputs": [
    {
     "data": {
      "image/png": "[encoded data removed]",
      "text/plain": [
       "<matplotlib.figure.Figure at 0x10eeef890>"
      ]
     },
     "metadata": {},
     "output_type": "display_data"
    }
   ],
   "source": [
    "plt.figure(figsize=(8, 6))\n",
    "#plt.subplots_adjust(left=.2, right=0.95, bottom=0.15, top=0.95)\n",
    "plt.imshow(acc_pair_square, interpolation='nearest', cmap=plt.cm.hot)\n",
    "plt.xlabel('gamma')\n",
    "plt.ylabel('C')\n",
    "plt.colorbar()\n",
    "plt.xticks(np.arange(len(gamma_range)), gamma_range, rotation=45)\n",
    "plt.yticks(np.arange(len(C_range)), C_range)\n",
    "plt.title('Validation accuracy for COVERTYPE')\n",
    "plt.show()"
   ]
  },
  {
   "cell_type": "code",
   "execution_count": 21,
   "metadata": {},
   "outputs": [
    {
     "name": "stdout",
     "output_type": "stream",
     "text": [
      "9675\n",
      "CPU times: user 7.82 s, sys: 57.9 ms, total: 7.87 s\n",
      "Wall time: 7.88 s\n"
     ]
    }
   ],
   "source": [
    "%%time\n",
    "clf1 = SVC(kernel='rbf', C=1, gamma = 0.1)\n",
    "clf1.fit(M_train_sub[:, :-1], M_train_sub[:, -1])\n",
    "print sum(clf1.predict(M_test[:, :-1]) == M_test[:, -1])/len(M_test)"
   ]
  },
  {
   "cell_type": "code",
   "execution_count": 22,
   "metadata": {},
   "outputs": [
    {
     "name": "stdout",
     "output_type": "stream",
     "text": [
      "106294\n",
      "CPU times: user 2h 6min 33s, sys: 3min 30s, total: 2h 10min 3s\n",
      "Wall time: 2h 10min 10s\n"
     ]
    }
   ],
   "source": [
    "%%time\n",
    "clf2 = SVC(kernel='rbf', C=100, gamma = 0.01)\n",
    "clf2.fit(C_train_sub[:, :-1], C_train_sub[:, -1])\n",
    "print sum(clf2.predict(C_test[:, :-1]) == C_test[:, -1])/len(C_test)"
   ]
  },
  {
   "cell_type": "code",
   "execution_count": 10,
   "metadata": {
    "collapsed": true
   },
   "outputs": [],
   "source": [
    "acc_pair_C = np.load('acc_pair_C_small.npy')\n",
    "bias= []\n",
    "var = []\n",
    "count = 0\n",
    "for i in range(13):\n",
    "    temp = []\n",
    "    temp2 = []\n",
    "    for j in range(13):\n",
    "        temp.append(1 - acc_pair_C[count][1]) #row: C, col: gamma\n",
    "        temp2.append(1 - acc_pair_C[count][1] - (1 - acc_pair_C[count][1])**2)\n",
    "        count += 1\n",
    "    bias.append(temp)\n",
    "    var.append(temp2)\n",
    "\n",
    "bias = np.array(bias)\n",
    "var = np.array(var)"
   ]
  },
  {
   "cell_type": "code",
   "execution_count": 6,
   "metadata": {},
   "outputs": [
    {
     "name": "stdout",
     "output_type": "stream",
     "text": [
      "kernel type = rbf, score = 0.917079\n",
      "used time: 18.7507460117 seconds\n",
      "variance: 2.94441924918e-05\n"
     ]
    }
   ],
   "source": [
    "#stability\n",
    "M_train_sub = pp.getSubset(M_train, 50) #50, 75, 100\n",
    "M_stab_50 = svm_fold(M_train_sub, kernelName = 'rbf', nFold=10, all_result=True)\n",
    "print \"variance:\", np.var(M_stab_50)"
   ]
  },
  {
   "cell_type": "code",
   "execution_count": 7,
   "metadata": {},
   "outputs": [
    {
     "name": "stdout",
     "output_type": "stream",
     "text": [
      "kernel type = rbf, score = 0.921228\n",
      "used time: 34.9458811283 seconds\n",
      "variance: 2.54733429619e-05\n"
     ]
    }
   ],
   "source": [
    "#stability\n",
    "M_train_sub = pp.getSubset(M_train, 75) #50, 75, 100\n",
    "M_stab_75 = svm_fold(M_train_sub, kernelName = 'rbf', nFold=10, all_result=True)\n",
    "print \"variance:\", np.var(M_stab_75)"
   ]
  },
  {
   "cell_type": "code",
   "execution_count": 8,
   "metadata": {},
   "outputs": [
    {
     "name": "stdout",
     "output_type": "stream",
     "text": [
      "kernel type = rbf, score = 0.922889\n",
      "used time: 58.5726900101 seconds\n",
      "variance: 8.51499118166e-06\n"
     ]
    }
   ],
   "source": [
    "#stability\n",
    "M_train_sub = pp.getSubset(M_train, 100) #50, 75, 100\n",
    "M_stab_100 = svm_fold(M_train_sub, kernelName = 'rbf', nFold=10, all_result=True)\n",
    "print \"variance:\", np.var(M_stab_100)"
   ]
  },
  {
   "cell_type": "code",
   "execution_count": 9,
   "metadata": {},
   "outputs": [
    {
     "name": "stdout",
     "output_type": "stream",
     "text": [
      "kernel type = rbf, score = 0.739103\n",
      "used time: 2017.71553302 seconds\n",
      "variance: 4.19634668576e-06\n",
      "[0.74191416415382705, 0.73709139977418558, 0.73830308704871539]\n"
     ]
    }
   ],
   "source": [
    "#stability\n",
    "C_train_sub = pp.getSubset(C_train, 50) #50, 75, 100\n",
    "C_stab_50 = svm_fold(C_train_sub, kernelName = 'rbf', nFold=3, all_result=True)\n",
    "print \"variance:\", np.var(C_stab_50)\n",
    "print C_stab_50"
   ]
  },
  {
   "cell_type": "code",
   "execution_count": null,
   "metadata": {},
   "outputs": [],
   "source": [
    "#stability\n",
    "C_train_sub = pp.getSubset(C_train, 75) #50, 75, 100\n",
    "C_stab_75 = svm_fold(C_train_sub, kernelName = 'rbf', nFold=3, all_result=True)\n",
    "print \"variance:\", np.var(C_stab_75)\n",
    "print C_stab_75"
   ]
  },
  {
   "cell_type": "code",
   "execution_count": null,
   "metadata": {},
   "outputs": [],
   "source": [
    "#stability\n",
    "C_train_sub = pp.getSubset(C_train, 100) #50, 75, 100\n",
    "C_stab_100 = svm_fold(C_train_sub, kernelName = 'rbf', nFold=3, all_result=True)\n",
    "print \"variance:\", np.var(C_stab_100)\n",
    "print C_stab_100"
   ]
  },
  {
   "cell_type": "code",
   "execution_count": null,
   "metadata": {
    "collapsed": true
   },
   "outputs": [],
   "source": []
  }
 ],
 "metadata": {
  "anaconda-cloud": {},
  "kernelspec": {
   "display_name": "Python [conda root]",
   "language": "python",
   "name": "conda-root-py"
  },
  "language_info": {
   "codemirror_mode": {
    "name": "ipython",
    "version": 2
   },
   "file_extension": ".py",
   "mimetype": "text/x-python",
   "name": "python",
   "nbconvert_exporter": "python",
   "pygments_lexer": "ipython2",
   "version": "2.7.12"
  }
 },
 "nbformat": 4,
 "nbformat_minor": 1
}
